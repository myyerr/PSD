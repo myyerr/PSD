{
 "cells": [
  {
   "cell_type": "markdown",
   "id": "63ad3ddb",
   "metadata": {},
   "source": [
    "\n",
    "# Tahapan CRISP-DM (Cross Industry Standard Process for Data Mining)\n",
    "\n",
    "## 1. Business Understanding\n",
    "- Menentukan tujuan dan permasalahan bisnis yang ingin diselesaikan.  \n",
    "- Contoh: memprediksi harga smartphone untuk membantu keputusan pembelian.  \n",
    "\n",
    "## 2. Data Understanding\n",
    "- Mengumpulkan data, mengenali struktur dataset, dan mengecek kualitas data.  \n",
    "- Contoh: memahami atribut seperti RAM, kamera, baterai, dll.  \n",
    "\n",
    "## 3. Data Preparation\n",
    "- Membersihkan dan mengolah data agar siap digunakan.  \n",
    "- Termasuk: mengatasi missing value, normalisasi, encoding, atau pemilihan fitur.  \n",
    "\n",
    "## 4. Modeling\n",
    "- Menerapkan algoritma machine learning sesuai kebutuhan.  \n",
    "- Contoh: regresi linear, KNN, decision tree, dll.  \n",
    "\n",
    "## 5. Evaluation\n",
    "- Mengevaluasi performa model dengan metrik tertentu (akurasi, RMSE, dll.).  \n",
    "- Menilai apakah hasil sudah sesuai dengan tujuan bisnis.  \n",
    "\n",
    "## 6. Deployment\n",
    "- Mengimplementasikan model ke dalam aplikasi/lingkungan nyata.  \n",
    "- Contoh: membuat dashboard, API, atau aplikasi prediksi berbasis web.  \n"
   ]
  }
 ],
 "metadata": {},
 "nbformat": 4,
 "nbformat_minor": 5
}